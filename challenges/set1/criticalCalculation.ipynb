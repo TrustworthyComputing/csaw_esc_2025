{
 "cells": [
  {
   "cell_type": "markdown",
   "id": "95b1d354-4eca-4d69-b22b-087db4cddb0e",
   "metadata": {},
   "source": [
    "## Critical Caluclation"
   ]
  },
  {
   "cell_type": "code",
   "execution_count": null,
   "id": "ffe7605b",
   "metadata": {},
   "outputs": [],
   "source": [
    "SCOPETYPE = 'CWNANO'\n",
    "PLATFORM = 'CWNANO'"
   ]
  },
  {
   "cell_type": "code",
   "execution_count": null,
   "id": "990680b6",
   "metadata": {},
   "outputs": [],
   "source": [
    "%run \"../setup/Setup_Generic.ipynb\""
   ]
  },
  {
   "cell_type": "code",
   "execution_count": null,
   "id": "e8449d72",
   "metadata": {},
   "outputs": [],
   "source": [
    "fw_path = \"criticalCalculation-{}.hex\".format(PLATFORM)\n",
    "cw.program_target(scope, prog, fw_path)"
   ]
  },
  {
   "cell_type": "code",
   "execution_count": null,
   "id": "5d9d5a9c",
   "metadata": {},
   "outputs": [],
   "source": [
    "target.simpleserial_write(\"d\", bytearray([]))\n",
    "resp = target.simpleserial_read_witherrors('r', 26)\n",
    "if resp is not None:\n",
    "    print(resp)"
   ]
  }
 ],
 "metadata": {
  "kernelspec": {
   "display_name": "Python 3 (ipykernel)",
   "language": "python",
   "name": "python3"
  },
  "language_info": {
   "codemirror_mode": {
    "name": "ipython",
    "version": 3
   },
   "file_extension": ".py",
   "mimetype": "text/x-python",
   "name": "python",
   "nbconvert_exporter": "python",
   "pygments_lexer": "ipython3",
   "version": "3.12.9"
  }
 },
 "nbformat": 4,
 "nbformat_minor": 5
}
