{
 "cells": [
  {
   "cell_type": "markdown",
   "id": "278944d8",
   "metadata": {},
   "source": [
    "## Sorter Song"
   ]
  },
  {
   "cell_type": "code",
   "execution_count": null,
   "id": "52dbfef1",
   "metadata": {},
   "outputs": [],
   "source": [
    "SCOPETYPE = 'CWNANO'\n",
    "PLATFORM = 'CWNANO'"
   ]
  },
  {
   "cell_type": "code",
   "execution_count": null,
   "id": "53038a51",
   "metadata": {},
   "outputs": [],
   "source": [
    "%run \"../setup/Setup_Generic.ipynb\""
   ]
  },
  {
   "cell_type": "code",
   "execution_count": null,
   "id": "142a9e07",
   "metadata": {},
   "outputs": [],
   "source": [
    "cw.program_target(scope, prog, \"sortersSong-{}.hex\".format(PLATFORM))"
   ]
  },
  {
   "cell_type": "markdown",
   "id": "9ce66e23",
   "metadata": {},
   "source": [
    "## Sorters Song 1"
   ]
  },
  {
   "cell_type": "code",
   "execution_count": null,
   "id": "069bc392-03b2-44d9-85ac-8fa52c81312b",
   "metadata": {},
   "outputs": [],
   "source": [
    "# Challenge 1\n",
    "target.simpleserial_write('x', b'')\n",
    "resp = target.simpleserial_read('r', 1)\n",
    "if resp is not None:\n",
    "    print(\"x: \", resp)\n",
    "    \n",
    "num = 1\n",
    "pos=1\n",
    "target.simpleserial_write('p', bytearray([1, num&0xff, 0, pos]))\n",
    "resp = target.simpleserial_read('r', 2)\n",
    "if resp is not None:\n",
    "    print(\"p: \", int.from_bytes(resp, byteorder='little', signed=False))\n",
    "    \n",
    "target.simpleserial_write('c', b'')\n",
    "resp = target.simpleserial_read('r', 1)\n",
    "if resp is not None:\n",
    "    print(\"c: \", resp)\n",
    "\n",
    "# check the answer\n",
    "target.simpleserial_write('a', bytearray([3, 15, 22, 24, 41, 82, 86, 89, 90, 96, 106, 179, 217, 219, 250]))\n",
    "resp = target.simpleserial_read('r', 20)\n",
    "if resp is not None:\n",
    "    print(\"a: \", resp)\n",
    "    \n",
    "#check number of queries\n",
    "target.simpleserial_write('q', b\"0\")\n",
    "resp = target.simpleserial_read('r', 4)\n",
    "if resp is not None:\n",
    "    print(f\"Number of Queries (cumulative): {int.from_bytes(resp, byteorder='little', signed=False)}\") #number of queries since powerup             "
   ]
  },
  {
   "cell_type": "markdown",
   "id": "9e0eca60-b29b-44e2-b9f6-1dc72f6e3730",
   "metadata": {},
   "source": [
    "## Sorters Song 2"
   ]
  },
  {
   "cell_type": "code",
   "execution_count": null,
   "id": "43379638-1e72-4fbb-a284-a848336af32b",
   "metadata": {},
   "outputs": [],
   "source": [
    "# Challenge 2\n",
    "target.simpleserial_write('x', b'')\n",
    "resp = target.simpleserial_read('r', 1)\n",
    "if resp is not None:\n",
    "    print(\"x: \", resp)\n",
    "\n",
    "num = 456\n",
    "pos=1\n",
    "target.simpleserial_write('p', bytearray([2,  num&0xff, (num>>8)&0xff, pos]))\n",
    "resp = target.simpleserial_read('r', 2)\n",
    "if resp is not None:\n",
    "    print(\"p: \", int.from_bytes(resp, byteorder='little', signed=False))\n",
    "    \n",
    "target.simpleserial_write('d', b'')\n",
    "resp = target.simpleserial_read('r', 1)\n",
    "if resp is not None:\n",
    "    print(\"d: \", resp)\n",
    "\n",
    "# check the answer\n",
    "target.simpleserial_write('b', bytearray([90, 5, 29, 11, 21, 26, 49, 33, 101, 68, 244, 73, 18, 94, 8, 133, 98, 147, 221, 152, 116, 153, 26, 208, 217, 211, 169, 237, 28, 253]))\n",
    "resp = target.simpleserial_read('r', 20)\n",
    "if resp is not None:\n",
    "    print(\"b: \", resp)\n",
    "\n",
    "#check number of queries\n",
    "target.simpleserial_write('q', b\"0\")\n",
    "resp = target.simpleserial_read('r', 4)\n",
    "if resp is not None:\n",
    "    print(f\"Number of Queries (cumulative): {int.from_bytes(resp, byteorder='little', signed=False)}\") #number of queries since powerup\n",
    "    \n",
    "                          "
   ]
  }
 ],
 "metadata": {
  "kernelspec": {
   "display_name": "Python 3 (ipykernel)",
   "language": "python",
   "name": "python3"
  },
  "language_info": {
   "codemirror_mode": {
    "name": "ipython",
    "version": 3
   },
   "file_extension": ".py",
   "mimetype": "text/x-python",
   "name": "python",
   "nbconvert_exporter": "python",
   "pygments_lexer": "ipython3",
   "version": "3.12.9"
  }
 },
 "nbformat": 4,
 "nbformat_minor": 5
}
