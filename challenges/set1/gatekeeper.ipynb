{
 "cells": [
  {
   "cell_type": "markdown",
   "id": "c7390c47",
   "metadata": {},
   "source": [
    "# GateKeeper"
   ]
  },
  {
   "cell_type": "code",
   "execution_count": null,
   "id": "7149fd47",
   "metadata": {},
   "outputs": [],
   "source": [
    "SCOPETYPE = 'CWNANO'\n",
    "PLATFORM = 'CWNANO'"
   ]
  },
  {
   "cell_type": "code",
   "execution_count": null,
   "id": "1d9953f3",
   "metadata": {},
   "outputs": [],
   "source": [
    "%run \"../setup/Setup_Generic.ipynb\""
   ]
  },
  {
   "cell_type": "code",
   "execution_count": null,
   "id": "061446c6",
   "metadata": {},
   "outputs": [],
   "source": [
    "cw.program_target(scope, prog, \"gatekeeper-{}.hex\".format(PLATFORM))"
   ]
  },
  {
   "cell_type": "markdown",
   "id": "552c2405-2127-4ff0-b9c7-69d403c3f93c",
   "metadata": {},
   "source": [
    "## Gatekeeper 1"
   ]
  },
  {
   "cell_type": "code",
   "execution_count": null,
   "id": "7c108c93",
   "metadata": {},
   "outputs": [],
   "source": [
    "# Gatekeeper 1: 8 character flag, lowercase alpha or numeric\n",
    "target.simpleserial_write('a', b\"gk1{gateflg1}\") #l0g1npwn\n",
    "response = target.simpleserial_read('r', 1)\n",
    "if response is not None:\n",
    "    print(f\"Gatekeeper1 Success (0x01 if correct): {response.hex()}\") #0x01 if correct\n",
    "    \n",
    "target.simpleserial_write('q', b\"0\")\n",
    "response = target.simpleserial_read('r', 4)\n",
    "if response is not None:\n",
    "    print(f\"Number of Queries (cumulative): {int.from_bytes(response, byteorder='little', signed=False)}\") #number of queries since powerup"
   ]
  },
  {
   "cell_type": "markdown",
   "id": "52ce162a-acc4-47fd-bf58-3f4e253b4298",
   "metadata": {},
   "source": [
    "## Gatekeeper 2"
   ]
  },
  {
   "cell_type": "code",
   "execution_count": null,
   "id": "ad924171-18df-47c1-9e6e-701f3d19c010",
   "metadata": {},
   "outputs": [],
   "source": [
    "# Gatekeeper 2: 12 character flag, alphanumeric\n",
    "target.simpleserial_write('b', b\"gk2{gAtEfLaGnuM2}\")\n",
    "response = target.simpleserial_read('r', 1)\n",
    "if response is not None:\n",
    "    print(f\"Gatekeeper2 Success (0x01 if correct): {response.hex()}\") #0x01 if correct\n",
    "\n",
    "target.simpleserial_write('q', b\"0\")\n",
    "response = target.simpleserial_read('r', 4)\n",
    "if response is not None:\n",
    "    print(f\"Number of Queries (cumulative): {int.from_bytes(response, byteorder='little', signed=False)}\") #number of queries since powerup"
   ]
  }
 ],
 "metadata": {
  "kernelspec": {
   "display_name": "Python 3 (ipykernel)",
   "language": "python",
   "name": "python3"
  },
  "language_info": {
   "codemirror_mode": {
    "name": "ipython",
    "version": 3
   },
   "file_extension": ".py",
   "mimetype": "text/x-python",
   "name": "python",
   "nbconvert_exporter": "python",
   "pygments_lexer": "ipython3",
   "version": "3.12.9"
  }
 },
 "nbformat": 4,
 "nbformat_minor": 5
}
