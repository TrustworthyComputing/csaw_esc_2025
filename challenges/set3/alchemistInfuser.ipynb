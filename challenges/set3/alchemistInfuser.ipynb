{
 "cells": [
  {
   "cell_type": "markdown",
   "id": "99426f99",
   "metadata": {},
   "source": [
    "# Alchemist Infuser"
   ]
  },
  {
   "cell_type": "code",
   "execution_count": null,
   "id": "6c8fd429",
   "metadata": {},
   "outputs": [],
   "source": [
    "SCOPETYPE = 'CWNANO'\n",
    "PLATFORM = 'CWNANO'"
   ]
  },
  {
   "cell_type": "code",
   "execution_count": null,
   "id": "095da1a2",
   "metadata": {},
   "outputs": [],
   "source": [
    "%run \"../setup/Setup_Generic.ipynb\""
   ]
  },
  {
   "cell_type": "code",
   "execution_count": null,
   "id": "a5b6e262",
   "metadata": {},
   "outputs": [],
   "source": [
    "cw.program_target(scope, prog, \"alchemistInfuser-{}.hex\".format(PLATFORM))"
   ]
  },
  {
   "cell_type": "code",
   "execution_count": null,
   "id": "41cb939d-a6ad-49f3-9385-812894f00caa",
   "metadata": {},
   "outputs": [],
   "source": [
    "buena = b'abcdefgh'\n",
    "target.simpleserial_write('e', buena)\n",
    "response = target.simpleserial_read('r', 8)\n",
    "if response is not None:\n",
    "    print(response.hex())\n",
    "\n",
    "target.simpleserial_write('d', response)\n",
    "response = target.simpleserial_read('r', 8)\n",
    "if response is not None:\n",
    "    print(response)\n",
    "\n",
    "# Note: Little Endian\n",
    "buena = b'abcdefgh12345678'\n",
    "target.simpleserial_write('c', buena)\n",
    "response = target.simpleserial_read('r', 17)\n",
    "if response is not None:\n",
    "    print(response)"
   ]
  }
 ],
 "metadata": {
  "kernelspec": {
   "display_name": "Python 3 (ipykernel)",
   "language": "python",
   "name": "python3"
  },
  "language_info": {
   "codemirror_mode": {
    "name": "ipython",
    "version": 3
   },
   "file_extension": ".py",
   "mimetype": "text/x-python",
   "name": "python",
   "nbconvert_exporter": "python",
   "pygments_lexer": "ipython3",
   "version": "3.12.9"
  }
 },
 "nbformat": 4,
 "nbformat_minor": 5
}
