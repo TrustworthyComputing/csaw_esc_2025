{
 "cells": [
  {
   "cell_type": "markdown",
   "id": "278944d8",
   "metadata": {},
   "source": [
    "## Echoes Of Chaos"
   ]
  },
  {
   "cell_type": "code",
   "execution_count": null,
   "id": "52dbfef1",
   "metadata": {},
   "outputs": [],
   "source": [
    "SCOPETYPE = 'CWNANO'\n",
    "PLATFORM = 'CWNANO'"
   ]
  },
  {
   "cell_type": "code",
   "execution_count": null,
   "id": "53038a51",
   "metadata": {},
   "outputs": [],
   "source": [
    "%run \"../setup/Setup_Generic.ipynb\""
   ]
  },
  {
   "cell_type": "code",
   "execution_count": null,
   "id": "142a9e07",
   "metadata": {},
   "outputs": [],
   "source": [
    "cw.program_target(scope, prog, \"chaos-{}.hex\".format(PLATFORM))"
   ]
  },
  {
   "cell_type": "code",
   "execution_count": null,
   "id": "43379638-1e72-4fbb-a284-a848336af32b",
   "metadata": {},
   "outputs": [],
   "source": [
    "target.simpleserial_write('x', b'')\n",
    "resp = target.simpleserial_read('r', 1)\n",
    "if resp is not None:\n",
    "    print(\"x: \", resp)\n",
    "\n",
    "num = 456\n",
    "pos=1\n",
    "target.simpleserial_write('p', bytearray([3,  num&0xff, (num>>8)&0xff, pos]))\n",
    "resp = target.simpleserial_read('r', 1)\n",
    "if resp is not None:\n",
    "    print(\"p: \", int.from_bytes(resp, byteorder='little', signed=False))\n",
    "\n",
    "# check the answer\n",
    "target.simpleserial_write('a', b'1'*30) \n",
    "resp = target.simpleserial_read('r', 20)\n",
    "if resp is not None:\n",
    "    print(\"b: \", resp)\n",
    "\n",
    "#check number of queries\n",
    "target.simpleserial_write('q', b\"0\")\n",
    "resp = target.simpleserial_read('r', 4)\n",
    "if resp is not None:\n",
    "    print(f\"Number of Queries (cumulative): {int.from_bytes(resp, byteorder='little', signed=False)}\") #number of queries since powerup\n",
    "    \n",
    "                          "
   ]
  },
  {
   "cell_type": "code",
   "execution_count": null,
   "id": "b95139e0-b08d-49ee-804f-2d0a9fcff7b4",
   "metadata": {},
   "outputs": [],
   "source": []
  }
 ],
 "metadata": {
  "kernelspec": {
   "display_name": "Python 3 (ipykernel)",
   "language": "python",
   "name": "python3"
  },
  "language_info": {
   "codemirror_mode": {
    "name": "ipython",
    "version": 3
   },
   "file_extension": ".py",
   "mimetype": "text/x-python",
   "name": "python",
   "nbconvert_exporter": "python",
   "pygments_lexer": "ipython3",
   "version": "3.12.9"
  }
 },
 "nbformat": 4,
 "nbformat_minor": 5
}
