{
 "cells": [
  {
   "cell_type": "markdown",
   "id": "7d35a8f9",
   "metadata": {},
   "source": [
    "# Dark Gatekeeper"
   ]
  },
  {
   "cell_type": "code",
   "execution_count": null,
   "id": "29b2c4b9",
   "metadata": {},
   "outputs": [],
   "source": [
    "SCOPETYPE = 'CWNANO'\n",
    "PLATFORM = 'CWNANO'"
   ]
  },
  {
   "cell_type": "code",
   "execution_count": null,
   "id": "1cfa5361",
   "metadata": {},
   "outputs": [],
   "source": [
    "%run \"../setup/Setup_Generic.ipynb\""
   ]
  },
  {
   "cell_type": "code",
   "execution_count": null,
   "id": "ca365c89",
   "metadata": {},
   "outputs": [],
   "source": [
    "cw.program_target(scope, prog, \"darkGatekeeper-{}.hex\".format(PLATFORM))"
   ]
  },
  {
   "cell_type": "code",
   "execution_count": null,
   "id": "1bfb68bd",
   "metadata": {},
   "outputs": [],
   "source": [
    "buena = b'notDaPasWord'\n",
    "target.simpleserial_write('a', buena)\n",
    "response = target.simpleserial_read('r', 18)\n",
    "if response is not None:\n",
    "    print(response)"
   ]
  }
 ],
 "metadata": {
  "kernelspec": {
   "display_name": "Python 3 (ipykernel)",
   "language": "python",
   "name": "python3"
  },
  "language_info": {
   "codemirror_mode": {
    "name": "ipython",
    "version": 3
   },
   "file_extension": ".py",
   "mimetype": "text/x-python",
   "name": "python",
   "nbconvert_exporter": "python",
   "pygments_lexer": "ipython3",
   "version": "3.12.9"
  }
 },
 "nbformat": 4,
 "nbformat_minor": 5
}
