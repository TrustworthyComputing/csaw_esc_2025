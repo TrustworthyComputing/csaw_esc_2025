{
 "cells": [
  {
   "cell_type": "markdown",
   "id": "34edd054",
   "metadata": {},
   "source": [
    "# Ghost Blood"
   ]
  },
  {
   "cell_type": "code",
   "execution_count": null,
   "id": "62212cae",
   "metadata": {},
   "outputs": [],
   "source": [
    "SCOPETYPE = 'CWNANO'\n",
    "PLATFORM = 'CWNANO'"
   ]
  },
  {
   "cell_type": "code",
   "execution_count": null,
   "id": "4d2bd581",
   "metadata": {},
   "outputs": [],
   "source": [
    "%run \"../setup/Setup_Generic.ipynb\""
   ]
  },
  {
   "cell_type": "code",
   "execution_count": null,
   "id": "39a27b96",
   "metadata": {},
   "outputs": [],
   "source": [
    "cw.program_target(scope, prog, \"salsa-{}.hex\".format(PLATFORM))"
   ]
  },
  {
   "cell_type": "code",
   "execution_count": null,
   "id": "e83007ae",
   "metadata": {},
   "outputs": [],
   "source": [
    "tx = b'\\x00\\x00\\x00\\x00\\x00\\x00'\n",
    "target.simpleserial_write('s', tx)\n",
    "response = target.simpleserial_read('r', 1)\n",
    "if response is not None:\n",
    "    print(response)\n",
    "\n",
    "key = b'\\x00'*16 \n",
    "target.simpleserial_write('d', key)\n",
    "response = target.simpleserial_read('r', 21)\n",
    "if response is not None:\n",
    "    print(response)\n",
    "\n",
    "queries = b'\\x00'\n",
    "target.simpleserial_write('q', queries)\n",
    "response = target.simpleserial_read('r', 4)\n",
    "if response is not None:\n",
    "    print(f\"Number of Queries (cumulative): {int.from_bytes(response, byteorder='little', signed=False)}\") #number of queries since powerup\n",
    "\n"
   ]
  },
  {
   "cell_type": "code",
   "execution_count": null,
   "id": "84ac7dae-71c1-480e-a58c-824d56531df6",
   "metadata": {},
   "outputs": [],
   "source": []
  }
 ],
 "metadata": {
  "kernelspec": {
   "display_name": "Python 3 (ipykernel)",
   "language": "python",
   "name": "python3"
  },
  "language_info": {
   "codemirror_mode": {
    "name": "ipython",
    "version": 3
   },
   "file_extension": ".py",
   "mimetype": "text/x-python",
   "name": "python",
   "nbconvert_exporter": "python",
   "pygments_lexer": "ipython3",
   "version": "3.12.9"
  }
 },
 "nbformat": 4,
 "nbformat_minor": 5
}
